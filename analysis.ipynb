{
 "metadata": {
  "name": ""
 },
 "nbformat": 3,
 "nbformat_minor": 0,
 "worksheets": [
  {
   "cells": [
    {
     "cell_type": "code",
     "collapsed": false,
     "input": [
      "import pandas as pd\n",
      "\n",
      "df = pd.read_hdf('/Users/SmartWombat/Desktop/store.h5', 'metar')\n",
      "\n",
      "print df.columns\n",
      "print df.shape\n",
      "print df.dtypes\n",
      "\n",
      "df = df.loc[df['airport'] == 'YSSY']\n",
      "df = df[df.wind_dir != 'VRB']\n",
      "df[['wind_dir']] = df[['wind_dir']].astype(float)\n",
      "\n",
      "print df.shape\n",
      "print df.dtypes\n",
      "\n",
      "df = df[np.isfinite(df['pressure'])]\n",
      "df = df[np.isfinite(df['rel_humidity'])]\n",
      "df = df[np.isfinite(df['temperature'])]\n",
      "df = df[np.isfinite(df['wind_dir'])]\n",
      "df = df[np.isfinite(df['wind_spd'])]\n",
      "print df.shape\n",
      "\n",
      "indexed_df = df.set_index(['timestamp'])\n",
      "print indexed_df\n",
      "indexed_df.sort_index(inplace=True)\n",
      "print indexed_df\n",
      "indexed_df = indexed_df.resample('3H')\n",
      "print indexed_df\n",
      "indexed_df = indexed_df[np.isfinite(indexed_df['pressure'])]\n",
      "print indexed_df"
     ],
     "language": "python",
     "metadata": {},
     "outputs": [
      {
       "output_type": "stream",
       "stream": "stdout",
       "text": [
        "Index([u'airport', u'pressure', u'rel_humidity', u'temperature', u'timestamp', u'wind_dir', u'wind_spd'], dtype=object)\n",
        "(175223, 7)\n",
        "airport                 object\n",
        "pressure               float64\n",
        "rel_humidity           float64\n",
        "temperature            float64\n",
        "timestamp       datetime64[ns]\n",
        "wind_dir                object\n",
        "wind_spd               float64\n",
        "dtype: object\n",
        "(54522, 7)"
       ]
      },
      {
       "output_type": "stream",
       "stream": "stdout",
       "text": [
        "\n",
        "airport                 object\n",
        "pressure               float64\n",
        "rel_humidity           float64\n",
        "temperature            float64\n",
        "timestamp       datetime64[ns]\n",
        "wind_dir               float64\n",
        "wind_spd               float64\n",
        "dtype: object\n",
        "(53297, 7)\n",
        "<class 'pandas.core.frame.DataFrame'>\n",
        "DatetimeIndex: 53297 entries, 2012-01-31 18:30:00 to 2012-07-23 01:00:00\n",
        "Data columns (total 6 columns):\n",
        "airport         53297  non-null values\n",
        "pressure        53297  non-null values\n",
        "rel_humidity    53297  non-null values\n",
        "temperature     53297  non-null values\n",
        "wind_dir        53297  non-null values\n",
        "wind_spd        53297  non-null values\n",
        "dtypes: float64(5), object(1)\n",
        "<class 'pandas.core.frame.DataFrame'>\n",
        "DatetimeIndex: 53297 entries, 2011-01-01 00:00:00 to 2013-12-31 23:30:00\n",
        "Data columns (total 6 columns):\n",
        "airport         53297  non-null values\n",
        "pressure        53297  non-null values\n",
        "rel_humidity    53297  non-null values\n",
        "temperature     53297  non-null values\n",
        "wind_dir        53297  non-null values\n",
        "wind_spd        53297  non-null values\n",
        "dtypes: float64(5), object(1)"
       ]
      },
      {
       "output_type": "stream",
       "stream": "stdout",
       "text": [
        "\n",
        "<class 'pandas.core.frame.DataFrame'>\n",
        "DatetimeIndex: 8768 entries, 2011-01-01 00:00:00 to 2013-12-31 21:00:00\n",
        "Freq: 3H\n",
        "Data columns (total 5 columns):\n",
        "pressure        8768  non-null values\n",
        "rel_humidity    8768  non-null values\n",
        "temperature     8768  non-null values\n",
        "wind_dir        8768  non-null values\n",
        "wind_spd        8768  non-null values\n",
        "dtypes: float64(5)\n",
        "<class 'pandas.core.frame.DataFrame'>\n",
        "DatetimeIndex: 8768 entries, 2011-01-01 00:00:00 to 2013-12-31 21:00:00\n",
        "Freq: 3H\n",
        "Data columns (total 5 columns):\n",
        "pressure        8768  non-null values\n",
        "rel_humidity    8768  non-null values\n",
        "temperature     8768  non-null values\n",
        "wind_dir        8768  non-null values\n",
        "wind_spd        8768  non-null values\n",
        "dtypes: float64(5)\n"
       ]
      }
     ],
     "prompt_number": 37
    },
    {
     "cell_type": "code",
     "collapsed": false,
     "input": [
      "import matplotlib.pyplot as plt\n",
      "indexed_df.plot(y='wind_spd')"
     ],
     "language": "python",
     "metadata": {},
     "outputs": [
      {
       "metadata": {},
       "output_type": "pyout",
       "prompt_number": 38,
       "text": [
        "<matplotlib.axes.AxesSubplot at 0x10e4d88d0>"
       ]
      },
      {
       "metadata": {},
       "output_type": "display_data",
       "png": "[encoded data removed]",
       "text": [
        "<matplotlib.figure.Figure at 0x108fe1510>"
       ]
      }
     ],
     "prompt_number": 38
    },
    {
     "cell_type": "code",
     "collapsed": false,
     "input": [],
     "language": "python",
     "metadata": {},
     "outputs": []
    }
   ],
   "metadata": {}
  }
 ]
}